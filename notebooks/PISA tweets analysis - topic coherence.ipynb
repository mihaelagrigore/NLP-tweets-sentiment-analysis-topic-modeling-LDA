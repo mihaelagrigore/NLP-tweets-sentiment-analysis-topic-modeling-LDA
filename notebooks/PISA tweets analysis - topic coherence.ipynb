{
 "cells": [
  {
   "cell_type": "code",
   "execution_count": null,
   "metadata": {
    "cell_id": "00000-2b42fb44-aca7-461f-9ac5-969b70e48419",
    "deepnote_cell_type": "code",
    "deepnote_to_be_reexecuted": false,
    "execution_millis": 23505,
    "execution_start": 1630226516498,
    "source_hash": "60f3c091",
    "tags": []
   },
   "outputs": [],
   "source": [
    "!pip install unidecode==1.2.0\n",
    "!pip install wordcloud==1.8.1\n",
    "!pip install gensim\n",
    "!pip install pyLDAvis==3.3.1\n",
    "!pip install pyLDAvis.gensim"
   ]
  },
  {
   "cell_type": "code",
   "execution_count": null,
   "metadata": {
    "cell_id": "00000-11c81b20-c06b-4898-b773-7570a9b63b67",
    "deepnote_cell_type": "code",
    "deepnote_to_be_reexecuted": false,
    "execution_millis": 9797,
    "execution_start": 1630226541298,
    "source_hash": "225232a6",
    "tags": []
   },
   "outputs": [
    {
     "name": "stderr",
     "output_type": "stream",
     "text": [
      "[nltk_data] Downloading package punkt to /root/nltk_data...\n",
      "[nltk_data]   Unzipping tokenizers/punkt.zip.\n",
      "[nltk_data] Downloading package averaged_perceptron_tagger to\n",
      "[nltk_data]     /root/nltk_data...\n",
      "[nltk_data]   Unzipping taggers/averaged_perceptron_tagger.zip.\n",
      "[nltk_data] Downloading package wordnet to /root/nltk_data...\n",
      "[nltk_data]   Unzipping corpora/wordnet.zip.\n",
      "/root/venv/lib/python3.7/site-packages/gensim/similarities/__init__.py:15: UserWarning: The gensim.similarities.levenshtein submodule is disabled, because the optional Levenshtein package <https://pypi.org/project/python-Levenshtein/> is unavailable. Install Levenhstein (e.g. `pip install python-Levenshtein`) to suppress this warning.\n",
      "  warnings.warn(msg)\n",
      "2021-08-29 08:42:27.817221: W tensorflow/stream_executor/platform/default/dso_loader.cc:60] Could not load dynamic library 'libcudart.so.11.0'; dlerror: libcudart.so.11.0: cannot open shared object file: No such file or directory\n",
      "2021-08-29 08:42:27.817260: I tensorflow/stream_executor/cuda/cudart_stub.cc:29] Ignore above cudart dlerror if you do not have a GPU set up on your machine.\n"
     ]
    }
   ],
   "source": [
    "# numerical computation\n",
    "import numpy as np\n",
    "\n",
    "# data processing/manipulation\n",
    "import pandas as pd\n",
    "pd.options.mode.chained_assignment = None\n",
    "import re\n",
    "from unidecode import unidecode \n",
    "from pprint import pprint\n",
    "import warnings\n",
    "warnings.filterwarnings(\"ignore\",category=DeprecationWarning)\n",
    "from collections import Counter\n",
    "import math\n",
    "\n",
    "# data visualization\n",
    "import matplotlib.pyplot as plt\n",
    "from matplotlib import rc\n",
    "from matplotlib import gridspec\n",
    "%matplotlib inline\n",
    "from os import path\n",
    "from PIL import Image\n",
    "from wordcloud import WordCloud, STOPWORDS, ImageColorGenerator\n",
    "import plotly.express as px\n",
    "import seaborn as sns\n",
    "\n",
    "# stopwords, tokenizer, stemmer\n",
    "import nltk  \n",
    "from nltk.corpus import stopwords\n",
    "from nltk.corpus import wordnet\n",
    "from nltk.tokenize import word_tokenize\n",
    "from nltk.stem import PorterStemmer\n",
    "from nltk.probability import FreqDist\n",
    "from nltk.sentiment.vader import SentimentIntensityAnalyzer\n",
    "from nltk.stem import WordNetLemmatizer \n",
    "nltk.download('punkt')\n",
    "nltk.download('averaged_perceptron_tagger')\n",
    "nltk.download('wordnet')\n",
    "\n",
    "# spell correction, lemmatization\n",
    "from textblob import TextBlob\n",
    "from textblob import Word\n",
    "\n",
    "# sklearn\n",
    "from sklearn.model_selection import train_test_split\n",
    "from sklearn.decomposition import LatentDirichletAllocation\n",
    "from sklearn.feature_extraction.text import CountVectorizer\n",
    "\n",
    "# Gensim\n",
    "import gensim\n",
    "import gensim.corpora as corpora\n",
    "from gensim.corpora import Dictionary \n",
    "from gensim.models.ldamodel import LdaModel\n",
    "from gensim.utils import simple_preprocess\n",
    "from gensim.models import CoherenceModel\n",
    "from gensim.parsing.preprocessing import STOPWORDS\n",
    "from gensim.parsing.preprocessing import remove_stopwords\n",
    "\n",
    "# Enable logging for gensim - optional\n",
    "import logging\n",
    "logging.basicConfig(format='%(asctime)s : %(levelname)s : %(message)s', level=logging.ERROR)\n",
    "\n",
    "# spacy for lemmatization and additional stopwords\n",
    "import spacy\n",
    "from spacy.lang.en.stop_words import STOP_WORDS\n",
    "\n",
    "# LDA plotting tools\n",
    "import pyLDAvis\n",
    "import pyLDAvis.sklearn\n",
    "\n",
    "import time"
   ]
  },
  {
   "cell_type": "code",
   "execution_count": null,
   "metadata": {
    "cell_id": "00001-514d8da1-f97c-4582-8cd6-a0a4d70db29d",
    "deepnote_cell_type": "code",
    "deepnote_to_be_reexecuted": false,
    "execution_millis": 2170,
    "execution_start": 1630226551101,
    "source_hash": "38ca8a06",
    "tags": []
   },
   "outputs": [],
   "source": [
    "# Loading each dataset\n",
    "pisa_df = pd.read_csv('pisa_df_unique.csv', lineterminator='\\n')"
   ]
  },
  {
   "cell_type": "code",
   "execution_count": null,
   "metadata": {
    "cell_id": "00005-750fb918-e1b7-4d66-8b86-df8cb8cda311",
    "deepnote_cell_type": "code",
    "deepnote_to_be_reexecuted": false,
    "execution_millis": 2,
    "execution_start": 1630226553311,
    "source_hash": "eca6129f",
    "tags": []
   },
   "outputs": [],
   "source": [
    "col_drops = ['Unnamed: 0', 'referenced_tweets', 'public_metrics', 'created_at',\n",
    "       'entities', 'conversation_id',  \n",
    "       'context_annotations', 'attachments', 'in_reply_to_user_id', 'username',\n",
    "       'name', 'description', 'public_metrics_user', 'location', 'verified',\n",
    "       'created_at_user', 'keyword', 'geo\\r']\n",
    "\n",
    "pisa_df = pisa_df.drop(columns=col_drops)"
   ]
  },
  {
   "cell_type": "code",
   "execution_count": null,
   "metadata": {
    "cell_id": "00005-96234cd8-7812-4493-8db1-d5c7e5c5f47a",
    "deepnote_cell_type": "code",
    "deepnote_output_heights": [
     21
    ],
    "deepnote_to_be_reexecuted": false,
    "execution_millis": 8,
    "execution_start": 1630226553319,
    "source_hash": "c0e7780d",
    "tags": []
   },
   "outputs": [
    {
     "data": {
      "text/plain": [
       "Index(['lang', 'id', 'author_id', 'tweet'], dtype='object')"
      ]
     },
     "execution_count": 6,
     "metadata": {},
     "output_type": "execute_result"
    }
   ],
   "source": [
    "pisa_df.rename(columns={\"text\": \"tweet\"}, inplace = True)\n",
    "pisa_df.columns"
   ]
  },
  {
   "cell_type": "code",
   "execution_count": null,
   "metadata": {
    "cell_id": "00007-e579ecb0-c748-4b1e-95e8-294640e25b54",
    "deepnote_cell_type": "code",
    "deepnote_to_be_reexecuted": false,
    "execution_millis": 77,
    "execution_start": 1630226553324,
    "source_hash": "3d8fcf67",
    "tags": []
   },
   "outputs": [
    {
     "name": "stdout",
     "output_type": "stream",
     "text": [
      "(151934, 4)\n",
      "Unique tweets: 54306\n"
     ]
    }
   ],
   "source": [
    "#let's see how many tweets conain unique text\n",
    "#but we don't remove the duplicates, since even if they are retweets, they still represent the voice of the rewteeter\n",
    "print(pisa_df.shape)\n",
    "print(f'Unique tweets: {pisa_df.tweet.nunique()}')"
   ]
  },
  {
   "cell_type": "markdown",
   "metadata": {
    "cell_id": "00005-8bccaccc-ef9d-49b1-9283-d3d28150ec84",
    "deepnote_cell_type": "markdown",
    "tags": []
   },
   "source": [
    "## Preprocessing"
   ]
  },
  {
   "cell_type": "code",
   "execution_count": null,
   "metadata": {
    "cell_id": "00008-abd3687a-e200-449d-9418-88228b60367a",
    "deepnote_cell_type": "code",
    "deepnote_output_heights": [
     21
    ],
    "deepnote_to_be_reexecuted": false,
    "execution_millis": 25,
    "execution_start": 1630226553398,
    "source_hash": "8d0bec94",
    "tags": []
   },
   "outputs": [
    {
     "data": {
      "text/plain": [
       "(80839, 4)"
      ]
     },
     "execution_count": 8,
     "metadata": {},
     "output_type": "execute_result"
    }
   ],
   "source": [
    "psa_df_backup = pisa_df.copy(deep = True)\n",
    "\n",
    "pisa_df = pisa_df[pisa_df.lang == 'en']\n",
    "\n",
    "pisa_df.shape"
   ]
  },
  {
   "cell_type": "code",
   "execution_count": null,
   "metadata": {
    "cell_id": "00006-e1cbac27-91ab-4b82-8bb3-c7d5a2f9d612",
    "deepnote_cell_type": "code",
    "deepnote_to_be_reexecuted": false,
    "execution_millis": 1,
    "execution_start": 1630226553418,
    "source_hash": "1a405cc5",
    "tags": []
   },
   "outputs": [],
   "source": [
    "keywords = ['pisa4development', 'pisaoecd', 'oecdpisa', 'pisa2003', 'pisa2006', 'pisa2009', 'pisa2012', 'pisa2015', 'pisa2018']"
   ]
  },
  {
   "cell_type": "code",
   "execution_count": null,
   "metadata": {
    "cell_id": "00005-b23ccfdf-1454-4079-a629-5eaa04050333",
    "deepnote_cell_type": "code",
    "deepnote_to_be_reexecuted": false,
    "execution_millis": 1,
    "execution_start": 1630226553439,
    "source_hash": "f62f6d70",
    "tags": []
   },
   "outputs": [],
   "source": [
    "'''\n",
    "Helper function that:\n",
    "    - removes accents\n",
    "    - removes stopwords\n",
    "    - removes punctuation\n",
    "    - remove all 1 and 2 letter 'words' that we create after automatic removal of the apostrophe character\n",
    "'''\n",
    "\n",
    "def clean_text(text):\n",
    "    \n",
    "    # remove accents of text\n",
    "    text=unidecode(text)\n",
    "    \n",
    "    # lowercase\n",
    "    text=text.lower()\n",
    "    \n",
    "    text=re.sub(r'&amp;',' ',text) # remove ampersand \n",
    "    #text=re.sub(r'[^\\sa-zA-Z0-9@\\[\\]]',' ',text) # remove characters: punctuation and other special characters, except for: alphabet letters, numbers, '@' and '\\' \n",
    "    \n",
    "    text=re.sub(r'@[A-Za-z0-9]+','',text) #remove mentions of other twitter accounts (remove the whole user name)\n",
    "    text=re.sub(r'#','',text) # remove the hashtag symbol (but leaves the hashtag word)\n",
    "    text=re.sub(r'RT[\\s]+','',text)\n",
    "    text=re.sub(r'https?:\\/\\/\\S+','',text) # removes hyperlinks\n",
    "    text=re.sub(r'[^\\w]', ' ', text)\n",
    "\n",
    "    # remove stopwords\n",
    "    text=remove_stopwords(text)\n",
    "    \n",
    "    text = re.sub(r'@\\S+', \"\", text)    #remove all @name (mentions of other Twitter usernames) -> remove again mentioned of other usernames ?\n",
    "    text = re.sub(r\"http\\S+\", \"\", text) #remove all URLs (the whole URL, until the next ' ' is encountered) -> remove again all URL ?\n",
    "\n",
    "    '''\n",
    "    remove he mentions of Pisa\n",
    "    '''\n",
    "    for k in keywords :\n",
    "        to_remove = k\n",
    "        text = re.sub(to_remove, \" \", text)\n",
    "    \n",
    "    '''\n",
    "    remove any 1 or 2 letter entities that remain in a text after automatically removing the apostrophes \n",
    "    [d, f, i, m, s, t, u, y]\n",
    "    [el, en, la, ll, pa, ve]\n",
    "    '''\n",
    "    text = re.sub(r\"\\sd\\s\", \" \", text)\n",
    "    text = re.sub(r\"\\sf\\s\", \" \", text)\n",
    "    text = re.sub(r\"\\si\\s\", \" \", text)\n",
    "    text = re.sub(r\"\\sm\\s\", \" \", text)\n",
    "    text = re.sub(r\"\\ss\\s\", \" \", text)\n",
    "    text = re.sub(r\"\\st\\s\", \" \", text)\n",
    "    text = re.sub(r\"\\su\\s\", \" \", text)\n",
    "    text = re.sub(r\"\\sy\\s\", \" \", text)    \n",
    "    text = re.sub(r\"\\sel\\s\", \" \", text)\n",
    "    text = re.sub(r\"\\sen\\s\", \" \", text)\n",
    "    text = re.sub(r\"\\sla\\s\", \" \", text)\n",
    "    text = re.sub(r\"\\sll\\s\", \" \", text)\n",
    "    text = re.sub(r\"\\spa\\s\", \" \", text)    \n",
    "    text = re.sub(r\"\\sve\\s\", \" \", text)\n",
    "    \n",
    "\n",
    "    return text"
   ]
  },
  {
   "cell_type": "code",
   "execution_count": null,
   "metadata": {
    "cell_id": "00008-942e61ca-20f2-462b-97d6-78a9b2368b4c",
    "deepnote_cell_type": "code",
    "deepnote_to_be_reexecuted": false,
    "execution_millis": 0,
    "execution_start": 1630226553440,
    "source_hash": "e38162d6",
    "tags": []
   },
   "outputs": [],
   "source": [
    "lemmatizer = WordNetLemmatizer()\n",
    "\n",
    "# function to convert nltk tag to wordnet tag\n",
    "def nltk_tag_to_wordnet_tag(nltk_tag):\n",
    "    if nltk_tag.startswith('J'):\n",
    "        return wordnet.ADJ\n",
    "    elif nltk_tag.startswith('V'):\n",
    "        return wordnet.VERB\n",
    "    elif nltk_tag.startswith('N'):\n",
    "        return wordnet.NOUN\n",
    "    elif nltk_tag.startswith('R'):\n",
    "        return wordnet.ADV\n",
    "    else:          \n",
    "        return None\n",
    "        \n",
    "# Lemmatization function\n",
    "def lemmatize_sentence(sentence):\n",
    "    #tokenize the sentence and find the POS tag for each token\n",
    "    nltk_tagged = nltk.pos_tag(nltk.word_tokenize(sentence))  \n",
    "    #tuple of (token, wordnet_tag)\n",
    "    wordnet_tagged = map(lambda x: (x[0], nltk_tag_to_wordnet_tag(x[1])), nltk_tagged)\n",
    "    lemmatized_sentence = []\n",
    "    for word, tag in wordnet_tagged:\n",
    "        if tag is None:\n",
    "            #if there is no available tag, append the token as is\n",
    "            lemmatized_sentence.append(word)\n",
    "        else:        \n",
    "            #else use the tag to lemmatize the token\n",
    "            lemmatized_sentence.append(lemmatizer.lemmatize(word, tag))\n",
    "    return \" \".join(lemmatized_sentence)"
   ]
  },
  {
   "cell_type": "code",
   "execution_count": null,
   "metadata": {
    "cell_id": "00009-db020e6b-c489-4ca9-b9ae-a1c0b5ee8ad5",
    "deepnote_cell_type": "code",
    "deepnote_to_be_reexecuted": false,
    "execution_millis": 1,
    "execution_start": 1630226553441,
    "source_hash": "844a9445",
    "tags": []
   },
   "outputs": [],
   "source": [
    "# Tokenize Tweets \n",
    "def tokenize_text(tweet):\n",
    "    filtered_tweet = []\n",
    "    words = word_tokenize(tweet) \n",
    "\n",
    "    for word in words:\n",
    "        filtered_tweet.append(word)\n",
    "                \n",
    "    return filtered_tweet\n"
   ]
  },
  {
   "cell_type": "code",
   "execution_count": null,
   "metadata": {
    "cell_id": "00011-0cafbc0b-2ef3-4bb8-9587-6bf5fc6e507e",
    "deepnote_cell_type": "code",
    "deepnote_output_heights": [
     21
    ],
    "deepnote_to_be_reexecuted": false,
    "execution_millis": 7027,
    "execution_start": 1630226553444,
    "source_hash": "1269a14e",
    "tags": []
   },
   "outputs": [
    {
     "data": {
      "text/plain": [
       "'\\nif you want to compare the original and \\nthe cleaned text to see what exactly was removed \\nuncomment both lines below\\n'"
      ]
     },
     "execution_count": 13,
     "metadata": {},
     "output_type": "execute_result"
    }
   ],
   "source": [
    "# Cleaning all tweets\n",
    "pisa_df['clean_tweets'] = pisa_df['tweet'].apply(lambda x: clean_text(x))\n",
    "\n",
    "'''\n",
    "if you want to compare the original and \n",
    "the cleaned text to see what exactly was removed \n",
    "uncomment both lines below\n",
    "'''\n",
    "#pd.options.display.max_colwidth = 300\n",
    "#print(twitter_usa_df[['tweet', 'cleaned_tweet']].head(10))"
   ]
  },
  {
   "cell_type": "code",
   "execution_count": null,
   "metadata": {
    "cell_id": "00012-4b0974a6-ae9f-472a-9605-3ca72871e1e6",
    "deepnote_cell_type": "code",
    "deepnote_to_be_reexecuted": false,
    "execution_millis": 62212,
    "execution_start": 1630226560468,
    "source_hash": "8d41c41d",
    "tags": []
   },
   "outputs": [],
   "source": [
    "# lemmatazing the  tweets by applying lemmatize_sentence()\n",
    "pisa_df['lemmat_tweets'] = pisa_df.clean_tweets.apply(lambda x: lemmatize_sentence(x))"
   ]
  },
  {
   "cell_type": "code",
   "execution_count": null,
   "metadata": {
    "cell_id": "00013-b9e7ef88-f5f5-480c-a242-6fc75dd6da48",
    "deepnote_cell_type": "code",
    "deepnote_to_be_reexecuted": false,
    "execution_millis": 8788,
    "execution_start": 1630226622701,
    "source_hash": "db1b481e",
    "tags": []
   },
   "outputs": [],
   "source": [
    "pisa_df['tokenized_tweets'] = pisa_df.lemmat_tweets.apply(lambda x: tokenize_text(x))"
   ]
  },
  {
   "cell_type": "code",
   "execution_count": null,
   "metadata": {
    "cell_id": "00016-58967dda-69e0-4ac5-bf31-3931293eb803",
    "deepnote_cell_type": "code",
    "deepnote_to_be_reexecuted": false,
    "execution_millis": 917,
    "execution_start": 1630226631490,
    "source_hash": "faf8fe96",
    "tags": []
   },
   "outputs": [],
   "source": [
    "pisa_df.to_csv('cleaned_pisa_df.csv')"
   ]
  },
  {
   "cell_type": "markdown",
   "metadata": {
    "cell_id": "00015-4daab18d-d1a3-4246-ab91-72ef868a2ebf",
    "deepnote_cell_type": "markdown",
    "tags": []
   },
   "source": [
    "### Topic Coherence"
   ]
  },
  {
   "cell_type": "markdown",
   "metadata": {
    "cell_id": "3b702261-11eb-45ea-b0b9-9458a4ebb442",
    "deepnote_cell_type": "markdown",
    "tags": []
   },
   "source": [
    "LDA topic modeling algorithm needs the targetted number of topics as a parameters.  \n",
    "For this reason, I first have to run a topic coherence algorithm that tries to infer into how many topics the texts in this collection would best cluster. \\"
   ]
  },
  {
   "cell_type": "code",
   "execution_count": null,
   "metadata": {
    "cell_id": "00016-a178bb31-b7ca-475a-b9e1-1ee8d14c4027",
    "deepnote_cell_type": "code",
    "deepnote_to_be_reexecuted": false,
    "execution_millis": 14,
    "execution_start": 1630226632412,
    "source_hash": "dcfb1122",
    "tags": []
   },
   "outputs": [],
   "source": [
    "data_sample = pisa_df.sample(n = 1000)"
   ]
  },
  {
   "cell_type": "code",
   "execution_count": null,
   "metadata": {
    "cell_id": "00022-da49d191-c70d-4ee7-ac1b-357df2606f35",
    "deepnote_cell_type": "code",
    "deepnote_output_heights": [
     null,
     21,
     319
    ],
    "deepnote_to_be_reexecuted": false,
    "execution_millis": 1478387,
    "execution_start": 1630228002572,
    "source_hash": "bdde0d44",
    "tags": []
   },
   "outputs": [
    {
     "name": "stdout",
     "output_type": "stream",
     "text": [
      "Coherence computation for 10 passes took: 24.63\n"
     ]
    },
    {
     "data": {
      "text/plain": [
       "Text(0, 0.5, 'Coherence Score')"
      ]
     },
     "execution_count": 24,
     "metadata": {},
     "output_type": "execute_result"
    },
    {
     "data": {
      "image/png": "[encoded data removed]",
      "text/plain": [
       "<Figure size 720x360 with 1 Axes>"
      ]
     },
     "metadata": {
      "image/png": {
       "height": 317,
       "width": 615
      },
      "needs_background": "light"
     },
     "output_type": "display_data"
    }
   ],
   "source": [
    "custom_range = range(4,14)\n",
    "#passes = 10\n",
    "passes = 10\n",
    "\n",
    "# Create Dictionary\n",
    "tweets_dictionary = corpora.Dictionary(data_sample.tokenized_tweets)\n",
    "\n",
    "# Create Corpus\n",
    "texts = pisa_df.tokenized_tweets\n",
    "\n",
    "# Term Document Frequency\n",
    "tweets_corpus = [tweets_dictionary.doc2bow(text) for text in texts]\n",
    "\n",
    "start_time = time.time()\n",
    "\n",
    "# compute coherence\n",
    "tweets_coherence = []\n",
    "for nb_topics in custom_range:\n",
    "    lda = LdaModel(tweets_corpus, num_topics = nb_topics, id2word = tweets_dictionary, passes=passes,random_state=100)\n",
    "    #cohm = CoherenceModel(model=lda, corpus=tweets_corpus, dictionary=tweets_dictionary, coherence='u_mass') #u_mass\n",
    "    cohm = CoherenceModel(model=lda, texts=pisa_df.tokenized_tweets, dictionary=tweets_dictionary, coherence='c_v') \n",
    "    coh = cohm.get_coherence()\n",
    "    tweets_coherence.append(coh)\n",
    "\n",
    "stop_time = time.time()\n",
    "print(f'Coherence computation for {passes} passes took: {(stop_time-start_time)/60:.2f}')\n",
    "\n",
    "# visualize coherence\n",
    "plt.figure(figsize=(10,5))\n",
    "plt.plot(custom_range,tweets_coherence)\n",
    "plt.xlabel(\"Number of Topics\")\n",
    "plt.ylabel(\"Coherence Score\")\n",
    "\n"
   ]
  },
  {
   "cell_type": "markdown",
   "metadata": {
    "created_in_deepnote_cell": true,
    "deepnote_cell_type": "markdown",
    "tags": []
   },
   "source": [
    "<a style='text-decoration:none;line-height:16px;display:flex;color:#5B5B62;padding:10px;justify-content:end;' href='https://deepnote.com?utm_source=created-in-deepnote-cell&projectId=fda67da1-eef2-4ddc-83c9-86a584779628' target=\"_blank\">\n",
    "<img alt='Created in deepnote.com' style='display:inline;max-height:16px;margin:0px;margin-right:7.5px;' src='data:image/svg+xml;base64,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' > </img>\n",
    "Created in <span style='font-weight:600;margin-left:4px;'>Deepnote</span></a>"
   ]
  }
 ],
 "metadata": {
  "deepnote": {
   "is_reactive": false
  },
  "deepnote_execution_queue": [],
  "deepnote_notebook_id": "98cec31b-2cff-48ec-889e-832e61cb8ff8",
  "kernelspec": {
   "display_name": "Python 3",
   "language": "python",
   "name": "python3"
  },
  "language_info": {
   "codemirror_mode": {
    "name": "ipython",
    "version": 3
   },
   "file_extension": ".py",
   "mimetype": "text/x-python",
   "name": "python",
   "nbconvert_exporter": "python",
   "pygments_lexer": "ipython3",
   "version": "3.8.3"
  }
 },
 "nbformat": 4,
 "nbformat_minor": 2
}
